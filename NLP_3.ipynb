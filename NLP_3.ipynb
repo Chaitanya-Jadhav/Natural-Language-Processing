{
 "cells": [
  {
   "cell_type": "code",
   "execution_count": 1,
   "metadata": {},
   "outputs": [],
   "source": [
    "import nltk\n",
    "from nltk.corpus import stopwords\n",
    "from nltk.tokenize import word_tokenize\n",
    "from nltk.tokenize import RegexpTokenizer\n",
    "from nltk.corpus import wordnet\n",
    "import numpy as np\n",
    "from prettytable import PrettyTable"
   ]
  },
  {
   "cell_type": "code",
   "execution_count": 3,
   "metadata": {},
   "outputs": [
    {
     "name": "stdout",
     "output_type": "stream",
     "text": [
      "INPUT STRING: The snow was coming down in big heavy flakes now.She greeted them with a big smile, hugging each of them as if they were old friends she hadn't seen in a decade. His big hands came up, grasping her wrists and pulling her forward until her armpits rested on his shoulders.\n"
     ]
    }
   ],
   "source": [
    "input_string=\"The snow was coming down in big heavy flakes now.\"\\\n",
    "            +\"She greeted them with a big smile, hugging each of them as \" \\\n",
    "            +\"if they were old friends she hadn't seen in a decade. \" \\\n",
    "            +\"His big hands came up, grasping her wrists and pulling her \" \\\n",
    "            +\"forward until her armpits rested on his shoulders.\"\n",
    "tokenizer = RegexpTokenizer(r'\\w+')\n",
    "WORDS=tokenizer.tokenize(input_string.lower())\n",
    "print(\"INPUT STRING:\",input_string)"
   ]
  },
  {
   "cell_type": "code",
   "execution_count": 5,
   "metadata": {},
   "outputs": [
    {
     "name": "stdout",
     "output_type": "stream",
     "text": [
      "+---------+---------+-------------------------------------+-----------------------------+\n",
      "| Sr. No. |   Word  |               Synonyms              |           Antonyms          |\n",
      "+---------+---------+-------------------------------------+-----------------------------+\n",
      "|    1    |   was   |   washington, evergreen_state, wa   |            differ           |\n",
      "|    2    |  coming |    approach, approaching, advent    |          go, leave          |\n",
      "|    3    |   down  | down_feather, john_l._h._down, pile |       up, up, upwards       |\n",
      "|    4    |   big   |          large, bad, large          |     small, little, small    |\n",
      "|    5    |  heavy  |      fleshy, overweight, clayey     |     light, light, light     |\n",
      "|    6    |   big   |          large, bad, large          |     small, little, small    |\n",
      "|    7    |   were  |              be, be, be             |            differ           |\n",
      "|    8    |   old   |       older, erstwhile, former      |          young, new         |\n",
      "|    9    | friends |         friend, ally, friend        |        foe, stranger        |\n",
      "|    10   |   big   |          large, bad, large          |     small, little, small    |\n",
      "|    11   |   came  |        come, come_up, arrive        |          go, leave          |\n",
      "|    12   |    up   |       astir, improving, upward      |    down, down, downwards    |\n",
      "|    13   | pulling |           pull, pull, draw          |         push, repel         |\n",
      "|    14   | forward |  send_on, advancing, forward-moving | backward, backward, reverse |\n",
      "|    15   |  rested |         rest, rest, breathe         |   be_active, change, tired  |\n",
      "|    16   |    on   |                along                |           off, off          |\n",
      "+---------+---------+-------------------------------------+-----------------------------+\n"
     ]
    }
   ],
   "source": [
    "pt=PrettyTable()\n",
    "pt.field_names=['Sr. No.','Word','Synonyms','Antonyms']\n",
    "j=1\n",
    "Result=np.array(['Word','Synonyms','Antonyms'])\n",
    "for i in WORDS:\n",
    "    synonyms = []\n",
    "    antonyms = []\n",
    "    for syn in wordnet.synsets(i):\n",
    "        for l in syn.lemmas():\n",
    "            synonyms.append(l.name().lower())\n",
    "            if l.antonyms():\n",
    "                antonyms.append(l.antonyms()[0].name())\n",
    "    while(i in synonyms):\n",
    "        synonyms.remove(i)\n",
    "    \n",
    "    SYN=', '.join(synonyms[:3])\n",
    "    ANT=', '.join(antonyms[:3])\n",
    "    \n",
    "    if(not((SYN==\"\")|(ANT==\"\"))):\n",
    "        pt.add_row([j,i,SYN,ANT])\n",
    "        j+=1\n",
    "print(pt)"
   ]
  },
  {
   "cell_type": "code",
   "execution_count": null,
   "metadata": {},
   "outputs": [],
   "source": []
  }
 ],
 "metadata": {
  "kernelspec": {
   "display_name": "Python 3",
   "language": "python",
   "name": "python3"
  },
  "language_info": {
   "codemirror_mode": {
    "name": "ipython",
    "version": 3
   },
   "file_extension": ".py",
   "mimetype": "text/x-python",
   "name": "python",
   "nbconvert_exporter": "python",
   "pygments_lexer": "ipython3",
   "version": "3.6.7"
  }
 },
 "nbformat": 4,
 "nbformat_minor": 2
}
