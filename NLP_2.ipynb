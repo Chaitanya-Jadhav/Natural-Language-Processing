{
 "cells": [
  {
   "cell_type": "code",
   "execution_count": 2,
   "metadata": {},
   "outputs": [],
   "source": [
    "import nltk\n",
    "from nltk.corpus import stopwords\n",
    "from nltk.tokenize import word_tokenize\n",
    "from nltk.tokenize import RegexpTokenizer\n",
    "from nltk.corpus import wordnet"
   ]
  },
  {
   "cell_type": "code",
   "execution_count": 3,
   "metadata": {},
   "outputs": [],
   "source": [
    "STOPWORDS=set(stopwords.words('english'))"
   ]
  },
  {
   "cell_type": "code",
   "execution_count": 4,
   "metadata": {},
   "outputs": [
    {
     "name": "stdout",
     "output_type": "stream",
     "text": [
      "INPUT STRING: The snow was coming down in big heavy flakes now.She greeted them with a big smile, hugging each of them as if they were old friends she hadn't seen in a decade. His big hands came up, grasping her wrists and pulling her forward until her armpits rested on his shoulders.\n"
     ]
    }
   ],
   "source": [
    "input_string=\"The snow was coming down in big heavy flakes now.\"\\\n",
    "            +\"She greeted them with a big smile, hugging each of them as \" \\\n",
    "            +\"if they were old friends she hadn't seen in a decade. \" \\\n",
    "            +\"His big hands came up, grasping her wrists and pulling her \" \\\n",
    "            +\"forward until her armpits rested on his shoulders.\"\n",
    "tokenizer = RegexpTokenizer(r'\\w+')\n",
    "WORDS=tokenizer.tokenize(input_string.lower())\n",
    "print(\"INPUT STRING:\",input_string)"
   ]
  },
  {
   "cell_type": "code",
   "execution_count": 5,
   "metadata": {},
   "outputs": [],
   "source": [
    "FILTERED_WORDS=[]\n",
    "for i in WORDS:\n",
    "    if i not in STOPWORDS:\n",
    "        FILTERED_WORDS.append(i)"
   ]
  },
  {
   "cell_type": "code",
   "execution_count": 10,
   "metadata": {},
   "outputs": [
    {
     "name": "stdout",
     "output_type": "stream",
     "text": [
      "Following is the string after removing punctuations and stopwords: \n",
      "\n",
      "\tOUTPUT STRING: snow coming big heavy flakes greeted big smile hugging old friends seen decade big hands came grasping wrists pulling forward armpits rested shoulders\n"
     ]
    }
   ],
   "source": [
    "print(\"Following is the string after removing punctuations and stopwords: \")\n",
    "print()\n",
    "print(\"\\tOUTPUT STRING:\",\" \".join(FILTERED_WORDS).strip())"
   ]
  },
  {
   "cell_type": "code",
   "execution_count": null,
   "metadata": {},
   "outputs": [],
   "source": []
  }
 ],
 "metadata": {
  "kernelspec": {
   "display_name": "Python 3",
   "language": "python",
   "name": "python3"
  },
  "language_info": {
   "codemirror_mode": {
    "name": "ipython",
    "version": 3
   },
   "file_extension": ".py",
   "mimetype": "text/x-python",
   "name": "python",
   "nbconvert_exporter": "python",
   "pygments_lexer": "ipython3",
   "version": "3.6.7"
  }
 },
 "nbformat": 4,
 "nbformat_minor": 2
}
