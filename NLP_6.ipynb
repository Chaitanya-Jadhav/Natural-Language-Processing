{
 "cells": [
  {
   "cell_type": "code",
   "execution_count": 1,
   "metadata": {},
   "outputs": [],
   "source": [
    "import nltk\n",
    "from nltk.tag import StanfordPOSTagger\n",
    "from nltk import word_tokenize\n",
    "import numpy as np"
   ]
  },
  {
   "cell_type": "code",
   "execution_count": 2,
   "metadata": {},
   "outputs": [],
   "source": [
    "# Add the jar and model via their path (instead of setting environment variables):\n",
    "jar = './stanford-postagger-2018-10-16/stanford-postagger-3.9.2.jar'\n",
    "model = './stanford-postagger-2018-10-16/models/english-left3words-distsim.tagger'\n",
    "\n",
    "pos_tagger = StanfordPOSTagger(model, jar, encoding='utf8')\n",
    "\n",
    "#text = pos_tagger.tag(word_tokenize(\"What's the airspeed of an unladen swallow ?\"))\n",
    "#print(text)"
   ]
  },
  {
   "cell_type": "code",
   "execution_count": 23,
   "metadata": {},
   "outputs": [
    {
     "name": "stdout",
     "output_type": "stream",
     "text": [
      "1: Johnny Town-mouse was born in a cupboard\n",
      "\tRelations between words:\n",
      "\t\t 1: born <in> cupboard\n",
      "\t\t 2: town-mouse <in> cupboard\n",
      "\t\t 3: johnny <in> cupboard\n",
      "\n",
      "2: Timmy Willie was born in a garden\n",
      "\tRelations between words:\n",
      "\t\t 1: born <in> garden\n",
      "\t\t 2: willie <in> garden\n",
      "\t\t 3: timmy <in> garden\n",
      "\n",
      "3: The gardener sent vegetables to town once a week by carrier, he packed them in a big hamper\n",
      "\tRelations between words:\n",
      "\t\t 1: week <by> carrier\n",
      "\t\t 2: town <by> carrier\n",
      "\t\t 3: gardener <by> carrier\n",
      "\t\t 4: carrier <in> hamper\n",
      "\n",
      "4: The gardener left the hamper by the garden gate, so that the carrier could pick it up when he passed\n",
      "\tRelations between words:\n",
      "\t\t 1: hamper <by> garden\n",
      "\t\t 2: hamper <by> gate\n",
      "\t\t 3: gardener <by> garden\n",
      "\t\t 4: gardener <by> gate\n",
      "\t\t 5: gate <that> carrier\n",
      "\t\t 6: garden <that> carrier\n",
      "\n",
      "5: Timmy Willie crept in through a hole in the wicker-work, and after eating some peas—Timmy Willie fell fast asleep\n",
      "\tRelations between words:\n",
      "\t\t 1: hole <in> wicker-work\n",
      "\n"
     ]
    }
   ],
   "source": [
    "Text=\"Johnny Town-mouse was born in a cupboard. Timmy Willie was born in a garden.The gardener sent vegetables to town once a week by carrier, he packed them in a big hamper.The gardener left the hamper by the garden gate, so that the carrier could pick it up when he passed. Timmy Willie crept in through a hole in the wicker-work, and after eating some peas—Timmy Willie fell fast asleep.\"\n",
    "Sentence_No=1\n",
    "for Sentence in Text.split(\".\")[:-1]:\n",
    "    Sr_No=1\n",
    "    print(str(Sentence_No)+\":\",Sentence.strip())\n",
    "    Sentence_No+=1\n",
    "    print(\"\\tRelations between words:\")\n",
    "    Tagger_Output=pos_tagger.tag(word_tokenize((Sentence.strip().lower())))\n",
    "    POS=np.array(Tagger_Output).T[1]\n",
    "    Words=np.array(Tagger_Output).T[0]\n",
    "    #print(Words)\n",
    "    \n",
    "    for i in range(0,len(POS)):\n",
    "        Word1=[]\n",
    "        Word2=[]\n",
    "        Prep=None\n",
    "        if(POS[i] in ['IN','CC']):\n",
    "            Prep=Words[i]\n",
    "            index=i-1\n",
    "            while(index>=0):\n",
    "                #print(POS[index])\n",
    "                if(POS[index] in ['NN','NNP','NNPS','NNS''VBG','VBN','VBP','VBZ']):\n",
    "                    #print(12)\n",
    "                    Word1.append(Words[index])\n",
    "                    #break\n",
    "                if(POS[index] in ['IN','CC']):\n",
    "                    break\n",
    "                #print('Backward',Words[index])\n",
    "                index-=1\n",
    "                \n",
    "            index=i+1\n",
    "            while(index!=len(POS)):\n",
    "                #print(POS[index])\n",
    "                if(POS[index] in ['NN','NNP','NNPS','NNS','VBG','VBN','VBP','VBZ']):\n",
    "                    Word2.append(Words[index])\n",
    "                    #break\n",
    "                if(POS[index] in ['IN','CC']):\n",
    "                    break\n",
    "                #print('Forward',Words[index])\n",
    "                index+=1\n",
    "            #break\n",
    "            \n",
    "            if((len(Word1)!=0) & (len(Word2)!=0) & (Prep != None)):\n",
    "                \n",
    "                for w1 in Word1:\n",
    "                    for w2 in Word2:\n",
    "                        #print(\"Relations between words\")\n",
    "                        print(\"\\t\\t\",str(Sr_No)+\":\",w1,\"<\"+Prep+\">\",w2)\n",
    "                        Sr_No+=1\n",
    "    print()\n",
    "            "
   ]
  },
  {
   "cell_type": "code",
   "execution_count": null,
   "metadata": {},
   "outputs": [],
   "source": []
  }
 ],
 "metadata": {
  "kernelspec": {
   "display_name": "Python 3",
   "language": "python",
   "name": "python3"
  },
  "language_info": {
   "codemirror_mode": {
    "name": "ipython",
    "version": 3
   },
   "file_extension": ".py",
   "mimetype": "text/x-python",
   "name": "python",
   "nbconvert_exporter": "python",
   "pygments_lexer": "ipython3",
   "version": "3.6.7"
  }
 },
 "nbformat": 4,
 "nbformat_minor": 2
}
