{
 "cells": [
  {
   "cell_type": "code",
   "execution_count": 11,
   "metadata": {},
   "outputs": [],
   "source": [
    "from nltk.stem import PorterStemmer\n",
    "from nltk.tokenize import RegexpTokenizer\n",
    "import pandas as pd\n",
    "from nltk.corpus import stopwords\n",
    "from tqdm import tqdm_notebook as tqdm"
   ]
  },
  {
   "cell_type": "code",
   "execution_count": 2,
   "metadata": {},
   "outputs": [
    {
     "data": {
      "text/plain": [
       "0    Once again Mr. Costner has dragged out a movie...\n",
       "1    This is an example of why the majority of acti...\n",
       "2    First of all I hate those moronic rappers, who...\n",
       "3    Not even the Beatles could write songs everyon...\n",
       "4    Brass pictures (movies is not a fitting word f...\n",
       "Name: review, dtype: object"
      ]
     },
     "execution_count": 2,
     "metadata": {},
     "output_type": "execute_result"
    }
   ],
   "source": [
    "data=pd.read_csv('./imdb_master.csv',encoding = \"ISO-8859-1\")\n",
    "data['review'].head()"
   ]
  },
  {
   "cell_type": "code",
   "execution_count": 3,
   "metadata": {},
   "outputs": [],
   "source": [
    "STOPWORDS=set(stopwords.words('english'))"
   ]
  },
  {
   "cell_type": "code",
   "execution_count": 12,
   "metadata": {},
   "outputs": [
    {
     "data": {
      "application/vnd.jupyter.widget-view+json": {
       "model_id": "bb94a5b5939b4213b48360a1a62b73a2",
       "version_major": 2,
       "version_minor": 0
      },
      "text/plain": [
       "HBox(children=(IntProgress(value=1, bar_style='info', max=1), HTML(value='')))"
      ]
     },
     "metadata": {},
     "output_type": "display_data"
    }
   ],
   "source": [
    "tokenizer = RegexpTokenizer(r'\\w+')\n",
    "ps = PorterStemmer()\n",
    "Stemmed_Reviews=[]\n",
    "for index,row in tqdm(data.iterrows()):\n",
    "    Sentence=row['review']\n",
    "    WORDS=tokenizer.tokenize(Sentence.lower())\n",
    "    FILTERED_WORDS=[]\n",
    "    for i in WORDS:\n",
    "        if i not in STOPWORDS:# Removing Stop Word's\n",
    "            FILTERED_WORDS.append(ps.stem(i))# Stemming Words\n",
    "    Stemmed_Reviews.append(' '.join(FILTERED_WORDS))"
   ]
  },
  {
   "cell_type": "code",
   "execution_count": 13,
   "metadata": {
    "scrolled": false
   },
   "outputs": [],
   "source": [
    "data['review']=Stemmed_Reviews"
   ]
  },
  {
   "cell_type": "code",
   "execution_count": 14,
   "metadata": {},
   "outputs": [
    {
     "data": {
      "text/plain": [
       "0    mr costner drag movi far longer necessari asid...\n",
       "1    exampl major action film gener bore realli not...\n",
       "2    first hate moron rapper could nt act gun press...\n",
       "3    even beatl could write song everyon like altho...\n",
       "4    brass pictur movi fit word realli somewhat bra...\n",
       "Name: review, dtype: object"
      ]
     },
     "execution_count": 14,
     "metadata": {},
     "output_type": "execute_result"
    }
   ],
   "source": [
    "data['review'].head()"
   ]
  }
 ],
 "metadata": {
  "kernelspec": {
   "display_name": "Python 3",
   "language": "python",
   "name": "python3"
  },
  "language_info": {
   "codemirror_mode": {
    "name": "ipython",
    "version": 3
   },
   "file_extension": ".py",
   "mimetype": "text/x-python",
   "name": "python",
   "nbconvert_exporter": "python",
   "pygments_lexer": "ipython3",
   "version": "3.6.7"
  }
 },
 "nbformat": 4,
 "nbformat_minor": 2
}
