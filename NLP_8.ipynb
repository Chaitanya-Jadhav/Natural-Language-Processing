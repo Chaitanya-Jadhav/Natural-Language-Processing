{
 "cells": [
  {
   "cell_type": "code",
   "execution_count": 4,
   "metadata": {},
   "outputs": [],
   "source": [
    "import nltk\n",
    "from nltk.corpus import stopwords\n",
    "from nltk.tokenize import word_tokenize\n",
    "from nltk.tokenize import RegexpTokenizer\n",
    "from nltk.corpus import wordnet\n",
    "from prettytable import PrettyTable\n",
    "import numpy as np"
   ]
  },
  {
   "cell_type": "code",
   "execution_count": 13,
   "metadata": {},
   "outputs": [
    {
     "name": "stdout",
     "output_type": "stream",
     "text": [
      "INPUT STRING: The snow was coming down in big heavy flakes now.\n"
     ]
    }
   ],
   "source": [
    "input_string=\"The snow was coming down in big heavy flakes now.\"\n",
    "tokenizer = RegexpTokenizer(r'\\w+')\n",
    "WORDS=tokenizer.tokenize(input_string.lower())\n",
    "print(\"INPUT STRING:\",input_string)"
   ]
  },
  {
   "cell_type": "code",
   "execution_count": 16,
   "metadata": {},
   "outputs": [
    {
     "name": "stdout",
     "output_type": "stream",
     "text": [
      "Tokenized Words:\n",
      "+---------+-----------------+\n",
      "| Sr. No. | Tokenized Words |\n",
      "+---------+-----------------+\n",
      "|    1    |       the       |\n",
      "|    2    |       snow      |\n",
      "|    3    |       was       |\n",
      "|    4    |      coming     |\n",
      "|    5    |       down      |\n",
      "|    6    |        in       |\n",
      "|    7    |       big       |\n",
      "|    8    |      heavy      |\n",
      "|    9    |      flakes     |\n",
      "|    10   |       now       |\n",
      "+---------+-----------------+\n"
     ]
    }
   ],
   "source": [
    "pt=PrettyTable()\n",
    "pt.field_names=['Sr. No.','Tokenized Words']\n",
    "print(\"Tokenized Words:\")\n",
    "for i in range(0,len(WORDS)):\n",
    "    pt.add_row([i+1,WORDS[i]])\n",
    "print(pt)"
   ]
  }
 ],
 "metadata": {
  "kernelspec": {
   "display_name": "Python 3",
   "language": "python",
   "name": "python3"
  },
  "language_info": {
   "codemirror_mode": {
    "name": "ipython",
    "version": 3
   },
   "file_extension": ".py",
   "mimetype": "text/x-python",
   "name": "python",
   "nbconvert_exporter": "python",
   "pygments_lexer": "ipython3",
   "version": "3.6.7"
  }
 },
 "nbformat": 4,
 "nbformat_minor": 2
}
