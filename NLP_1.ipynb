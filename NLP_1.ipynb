{
 "cells": [
  {
   "cell_type": "code",
   "execution_count": 7,
   "metadata": {},
   "outputs": [],
   "source": [
    "import nltk\n",
    "from nltk.tag import StanfordPOSTagger\n",
    "from nltk import word_tokenize\n",
    "from prettytable import PrettyTable\n",
    "from nltk.tokenize import RegexpTokenizer"
   ]
  },
  {
   "cell_type": "code",
   "execution_count": 2,
   "metadata": {},
   "outputs": [],
   "source": [
    "# Add the jar and model via their path (instead of setting environment variables):\n",
    "jar = './stanford-postagger-2018-10-16/stanford-postagger-3.9.2.jar'\n",
    "model = './stanford-postagger-2018-10-16/models/english-left3words-distsim.tagger'\n",
    "\n",
    "pos_tagger = StanfordPOSTagger(model, jar, encoding='utf8')\n",
    "\n",
    "#text = pos_tagger.tag(word_tokenize(\"What's the airspeed of an unladen swallow ?\"))\n",
    "#print(text)"
   ]
  },
  {
   "cell_type": "code",
   "execution_count": 3,
   "metadata": {},
   "outputs": [],
   "source": [
    "f = open(\"./POS_TaggerDemo_Input.txt\", \"r\")\n",
    "Sentence=f.read()[:-2]"
   ]
  },
  {
   "cell_type": "code",
   "execution_count": 8,
   "metadata": {},
   "outputs": [
    {
     "name": "stdout",
     "output_type": "stream",
     "text": [
      "+---------+----------+---------+\n",
      "| Sr. No. |  Token   | POS TAG |\n",
      "+---------+----------+---------+\n",
      "|    1    |    It    |   PRP   |\n",
      "|    2    |    is    |   VBZ   |\n",
      "|    3    | raining  |   VBG   |\n",
      "|    4    | Everyone |    NN   |\n",
      "|    5    |   grab   |    VB   |\n",
      "|    6    |   your   |   PRP$  |\n",
      "|    7    | umbrella |    NN   |\n",
      "|    8    |   and    |    CC   |\n",
      "|    9    |   rain   |    NN   |\n",
      "|    10   |   hat    |    NN   |\n",
      "|    11   |   and    |    CC   |\n",
      "|    12   |  watch   |    VB   |\n",
      "|    13   |   out    |    RP   |\n",
      "|    14   |   for    |    IN   |\n",
      "|    15   |   the    |    DT   |\n",
      "|    16   | puddles  |   NNS   |\n",
      "+---------+----------+---------+\n"
     ]
    }
   ],
   "source": [
    "tokenizer = RegexpTokenizer(r'\\w+')\n",
    "Tagger_Output=pos_tagger.tag(tokenizer.tokenize(Sentence))\n",
    "pt=PrettyTable()\n",
    "pt.field_names=[\"Sr. No.\",\"Token\",\"POS TAG\"]\n",
    "j=1\n",
    "for i in Tagger_Output:\n",
    "    pt.add_row([j,i[0],i[1]])\n",
    "    j+=1\n",
    "print(pt)"
   ]
  },
  {
   "cell_type": "code",
   "execution_count": null,
   "metadata": {},
   "outputs": [],
   "source": []
  }
 ],
 "metadata": {
  "kernelspec": {
   "display_name": "Python 3",
   "language": "python",
   "name": "python3"
  },
  "language_info": {
   "codemirror_mode": {
    "name": "ipython",
    "version": 3
   },
   "file_extension": ".py",
   "mimetype": "text/x-python",
   "name": "python",
   "nbconvert_exporter": "python",
   "pygments_lexer": "ipython3",
   "version": "3.6.7"
  }
 },
 "nbformat": 4,
 "nbformat_minor": 2
}
